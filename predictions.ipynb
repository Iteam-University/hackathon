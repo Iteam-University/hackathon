{
 "cells": [
  {
   "cell_type": "code",
   "execution_count": null,
   "metadata": {},
   "outputs": [],
   "source": [
    "import csv\n",
    "import pickle\n",
    "from sklearn.feature_extraction.text import CountVectorizer\n",
    "from sklearn.naive_bayes import MultinomialNB\n",
    "from parsel import Selector\n",
    "import pandas as pd \n",
    "\n",
    "from sklearn.externals import joblib\n",
    "f=csv.writer(open('data.csv','a',encoding=\"utf-8\"))\n",
    "col_liste=[\"text\",\"label\"]\n",
    "\n",
    "training_set=pd.read_csv(\"data.csv\", usecols=col_liste)\n",
    "print(training_set)\n",
    "vectorizer = CountVectorizer()\n",
    "counts = vectorizer.fit_transform(training_set['text'].values)\n",
    "print(counts)\n",
    "classifier = MultinomialNB()\n",
    "targets = training_set['label'].values\n",
    "model=classifier.fit(counts, targets)\n",
    "joblib.dump(model, \"model.pkl\")\n",
    "classi = joblib.load(\"model.pkl\")\n",
    "examples = [\"corona is a dangerous\"]\n",
    "example_counts = vectorizer.transform(examples)\n",
    "predictions = classi.predict(example_counts)\n",
    "print(predictions)\n"
   ]
  },
  {
   "cell_type": "code",
   "execution_count": null,
   "metadata": {},
   "outputs": [],
   "source": []
  },
  {
   "cell_type": "code",
   "execution_count": null,
   "metadata": {},
   "outputs": [],
   "source": []
  }
 ],
 "metadata": {
  "kernelspec": {
   "display_name": "Python 3",
   "language": "python",
   "name": "python3"
  },
  "language_info": {
   "codemirror_mode": {
    "name": "ipython",
    "version": 3
   },
   "file_extension": ".py",
   "mimetype": "text/x-python",
   "name": "python",
   "nbconvert_exporter": "python",
   "pygments_lexer": "ipython3",
   "version": "3.7.0"
  }
 },
 "nbformat": 4,
 "nbformat_minor": 2
}
